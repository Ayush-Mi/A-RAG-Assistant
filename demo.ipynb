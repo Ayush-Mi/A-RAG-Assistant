{
 "cells": [
  {
   "cell_type": "markdown",
   "metadata": {},
   "source": [
    "# Interacting with document"
   ]
  },
  {
   "cell_type": "markdown",
   "metadata": {},
   "source": [
    "This notebook demonstrate the usage of RAG system using Llama3. We first create a embedding vector database from which an answer to the query will be searched."
   ]
  },
  {
   "cell_type": "markdown",
   "metadata": {},
   "source": [
    "The below code takes all the reference books from the folder ref_books and fragment them into chunk size of 1000 words which will help the model to look into a specific section of the text instead of full document."
   ]
  },
  {
   "cell_type": "code",
   "execution_count": 7,
   "metadata": {},
   "outputs": [
    {
     "name": "stderr",
     "output_type": "stream",
     "text": [
      "/Users/ayush/miniconda3/envs/resumeLLM/lib/python3.11/site-packages/tqdm/auto.py:21: TqdmWarning: IProgress not found. Please update jupyter and ipywidgets. See https://ipywidgets.readthedocs.io/en/stable/user_install.html\n",
      "  from .autonotebook import tqdm as notebook_tqdm\n"
     ]
    },
    {
     "name": "stdout",
     "output_type": "stream",
     "text": [
      "Split 1 documents into 1805 chunks.\n",
      "Creating embeddings of those chunks using Llama3...\n",
      "This usually takes a lot of time             depending upon the system's compute capacity...                For 2277 chunks of 1000 size it took 198 mins on                    Mac M2 with 24g memory\n",
      "Saved 1805 chunks to db_path.\n"
     ]
    },
    {
     "name": "stderr",
     "output_type": "stream",
     "text": [
      "/Users/ayush/miniconda3/envs/resumeLLM/lib/python3.11/site-packages/langchain_core/_api/deprecation.py:139: LangChainDeprecationWarning: Since Chroma 0.4.x the manual persistence method is no longer supported as docs are automatically persisted.\n",
      "  warn_deprecated(\n"
     ]
    }
   ],
   "source": [
    "# This step takes really long time as it is creating \n",
    "# embedding vector using Llama3 embeddings for all \n",
    "# of the words in our document\n",
    "\n",
    "from create_db import CreateDatabase\n",
    "\n",
    "db = CreateDatabase(\n",
    "    data_path='ref_books',\n",
    "    file_type='pdf',\n",
    "    db_path='db_path',\n",
    "    chunk_size=1000,\n",
    "    chunk_overlap=100\n",
    ")\n",
    "\n",
    "db.create()"
   ]
  },
  {
   "cell_type": "markdown",
   "metadata": {},
   "source": [
    "We them call interact with this database using the below Assistant class which takes in query and generates a response based upon the context extracted using similarity search on the vector embedding."
   ]
  },
  {
   "cell_type": "code",
   "execution_count": 8,
   "metadata": {},
   "outputs": [],
   "source": [
    "from assistant import Assistant\n",
    "assist = Assistant(db_path='db_path')"
   ]
  },
  {
   "cell_type": "code",
   "execution_count": 9,
   "metadata": {},
   "outputs": [
    {
     "name": "stderr",
     "output_type": "stream",
     "text": [
      "/Users/ayush/miniconda3/envs/resumeLLM/lib/python3.11/site-packages/langchain_core/vectorstores/base.py:784: UserWarning: Relevance scores must be between 0 and 1, got [(Document(metadata={'source': 'ref_books/frus1861.pdf', 'start_index': 251103}, page_content='And here I stop for a moment to make two remarks upon this part of the conversation. The first of these is, that I have an impression that the agent to go to Hungary, alluded to by his lordship, was Mr. Mann, the same gentleman who is now figuring in the commission of the confederates at this place. If in this I am right, we can be at no loss for his lordship’s sources of information. The other remark is, that the Hungarian precedent was unquestionably one in which a very strong sympathy with the insurgent party actually existed in the United States. Are we therefore to infer a similar impulse to actuate the precipitate measure now taken here?'), -13626.40884333683), (Document(metadata={'source': 'ref_books/frus1861.pdf', 'start_index': 899652}, page_content='When those agents shall present themselves at St. Petersburg, his Imperial Majesty, before granting them a hearing, will naturally address himself to you, and will ask you: What is the cause of this revolution? What is its object? Why does the government resist it? What is the present condition of the revolution, and what are its prospects? What are the probable consequences of its success, or of its failure? And, finally, what does the the President desire or expect from his Imperial Majesty in regard to it?'), -13860.306508301193), (Document(metadata={'source': 'ref_books/frus1861.pdf', 'start_index': 55484}, page_content='Nor do we think we exaggerate our national importance when we claim that any political disaster that should befall us, and introduce discord or anarchy among the States that have so long constituted one great pacific, prosperous nation, under a form of government which has approved itself to the respect and confidence of mankind, might tend by its influence to disturb and unsettle the existing systems of government in other parts of the world, and arrest that progress of improvement and civilization which marks the era in which we live.'), -14163.082174238441)]\n",
      "  warnings.warn(\n"
     ]
    },
    {
     "name": "stdout",
     "output_type": "stream",
     "text": [
      "Question: What were the major national and international events happening in 1861 that influenced Lincoln’s address? \n",
      " Answer: Based on the provided context, it appears that the major national and international events influencing Lincoln's address in 1861 are:\n",
      "\n",
      "1. The American Civil War (or the \"revolution\" mentioned): It seems that the war had already begun, and Lincoln is addressing concerns about its cause, object, resistance, condition, prospects, consequences of success or failure, and desired action from foreign powers like Russia.\n",
      "2. The Hungarian Revolution: Although it happened in 1848-1849, the precedent of sympathy with the insurgent party in Hungary seems to be a significant point Lincoln is making, suggesting that there may be international implications for the US Civil War.\n",
      "\n",
      "It can be inferred that these events were significant enough to prompt Lincoln's address and consideration of potential international consequences.\n"
     ]
    }
   ],
   "source": [
    "query = 'What were the major national and international events happening in 1861 that influenced Lincoln’s address?'\n",
    "print('Question: {} \\n Answer: {}'.format(query,assist.query(query)))"
   ]
  },
  {
   "cell_type": "code",
   "execution_count": 10,
   "metadata": {},
   "outputs": [
    {
     "name": "stderr",
     "output_type": "stream",
     "text": [
      "/Users/ayush/miniconda3/envs/resumeLLM/lib/python3.11/site-packages/langchain_core/vectorstores/base.py:784: UserWarning: Relevance scores must be between 0 and 1, got [(Document(metadata={'source': 'ref_books/frus1861.pdf', 'start_index': 55484}, page_content='Nor do we think we exaggerate our national importance when we claim that any political disaster that should befall us, and introduce discord or anarchy among the States that have so long constituted one great pacific, prosperous nation, under a form of government which has approved itself to the respect and confidence of mankind, might tend by its influence to disturb and unsettle the existing systems of government in other parts of the world, and arrest that progress of improvement and civilization which marks the era in which we live.'), -13584.243458304787), (Document(metadata={'source': 'ref_books/frus1861.pdf', 'start_index': 584247}, page_content='Should it be answered that while all this has heretofore seemed true, yet that it is now disproved by the existing insurrection, you may truthfully reply that we must wait for that refutation until we see the end of the insurrection; that the insurrection proves in fact nothing else except that eighty years of peace is as much as human nature has the moderation to endure under circumstances the most conducive to moderation.'), -13707.023159595894), (Document(metadata={'source': 'ref_books/frus1861.pdf', 'start_index': 596619}, page_content='I have thus, under the President’s direction, placed before you a simple, unexaggerated, and dispassionate statement of the origin, nature, and purposes of the contest in which the United States are now involved. I have done so only for the purpose of deducing from it the arguments you will find it necessary to employ in opposing the application of the so-called Confederate States to the government of his Majesty the Emperor for a recognition of its independence and sovereignty.'), -13981.609847972986)]\n",
      "  warnings.warn(\n"
     ]
    },
    {
     "name": "stdout",
     "output_type": "stream",
     "text": [
      "Question: What was the primary purpose of Lincoln's address to Congress? \n",
      " Answer: Based on the provided context, the primary purpose of Lincoln's address to Congress was to deduce arguments against recognizing the Confederate States' independence and sovereignty by presenting a \"simple, unexaggerated, and dispassionate statement of the origin, nature, and purposes of the contest in which the United States are now involved.\"\n"
     ]
    }
   ],
   "source": [
    "query = 'What was the primary purpose of Lincoln\\'s address to Congress?'\n",
    "print('Question: {} \\n Answer: {}'.format(query,assist.query(query)))"
   ]
  },
  {
   "cell_type": "code",
   "execution_count": 11,
   "metadata": {},
   "outputs": [
    {
     "name": "stderr",
     "output_type": "stream",
     "text": [
      "/Users/ayush/miniconda3/envs/resumeLLM/lib/python3.11/site-packages/langchain_core/vectorstores/base.py:784: UserWarning: Relevance scores must be between 0 and 1, got [(Document(metadata={'source': 'ref_books/frus1861.pdf', 'start_index': 596619}, page_content='I have thus, under the President’s direction, placed before you a simple, unexaggerated, and dispassionate statement of the origin, nature, and purposes of the contest in which the United States are now involved. I have done so only for the purpose of deducing from it the arguments you will find it necessary to employ in opposing the application of the so-called Confederate States to the government of his Majesty the Emperor for a recognition of its independence and sovereignty.'), -14354.545145924018), (Document(metadata={'source': 'ref_books/frus1861.pdf', 'start_index': 55484}, page_content='Nor do we think we exaggerate our national importance when we claim that any political disaster that should befall us, and introduce discord or anarchy among the States that have so long constituted one great pacific, prosperous nation, under a form of government which has approved itself to the respect and confidence of mankind, might tend by its influence to disturb and unsettle the existing systems of government in other parts of the world, and arrest that progress of improvement and civilization which marks the era in which we live.'), -14581.373124144448), (Document(metadata={'source': 'ref_books/frus1861.pdf', 'start_index': 584247}, page_content='Should it be answered that while all this has heretofore seemed true, yet that it is now disproved by the existing insurrection, you may truthfully reply that we must wait for that refutation until we see the end of the insurrection; that the insurrection proves in fact nothing else except that eighty years of peace is as much as human nature has the moderation to endure under circumstances the most conducive to moderation.'), -14888.38866863295)]\n",
      "  warnings.warn(\n"
     ]
    },
    {
     "name": "stdout",
     "output_type": "stream",
     "text": [
      "Question: What arguments did Lincoln make regarding the preservation of the Union? \n",
      " Answer: Based on the provided context, Lincoln's argument for preserving the Union can be summarized as follows:\n",
      "\n",
      "1. The stability and prosperity of the United States have a significant impact on global affairs, and any political disaster or chaos within the country could potentially disrupt other nations' systems of government.\n",
      "2. The Union has been a beacon of peace, prosperity, and civilization for 80 years, and its preservation is crucial to maintaining this progress.\n",
      "\n",
      "In essence, Lincoln's argument emphasizes that preserving the Union is essential not only for the United States but also for the world at large, as it represents a pillar of stability, respectability, and confidence in mankind.\n"
     ]
    }
   ],
   "source": [
    "query = 'What arguments did Lincoln make regarding the preservation of the Union?'\n",
    "print('Question: {} \\n Answer: {}'.format(query,assist.query(query)))"
   ]
  },
  {
   "cell_type": "code",
   "execution_count": 12,
   "metadata": {},
   "outputs": [
    {
     "name": "stderr",
     "output_type": "stream",
     "text": [
      "/Users/ayush/miniconda3/envs/resumeLLM/lib/python3.11/site-packages/langchain_core/vectorstores/base.py:784: UserWarning: Relevance scores must be between 0 and 1, got [(Document(metadata={'source': 'ref_books/frus1861.pdf', 'start_index': 251103}, page_content='And here I stop for a moment to make two remarks upon this part of the conversation. The first of these is, that I have an impression that the agent to go to Hungary, alluded to by his lordship, was Mr. Mann, the same gentleman who is now figuring in the commission of the confederates at this place. If in this I am right, we can be at no loss for his lordship’s sources of information. The other remark is, that the Hungarian precedent was unquestionably one in which a very strong sympathy with the insurgent party actually existed in the United States. Are we therefore to infer a similar impulse to actuate the precipitate measure now taken here?'), -12313.555999697377), (Document(metadata={'source': 'ref_books/frus1861.pdf', 'start_index': 1127599}, page_content='But the court of Versailles set out from other principles, which she developed in “Observations on the Vindicatory Memoir of the Court of London,” saying, among other things: “It is sufficient to the justification of his Majesty that the colonies had established their independence not merely by a solemn\\n\\ndeclaration, but also in fact, and had maintained it against the efforts of the mother country.”'), -12394.102643627772), (Document(metadata={'source': 'ref_books/frus1861.pdf', 'start_index': 596619}, page_content='I have thus, under the President’s direction, placed before you a simple, unexaggerated, and dispassionate statement of the origin, nature, and purposes of the contest in which the United States are now involved. I have done so only for the purpose of deducing from it the arguments you will find it necessary to employ in opposing the application of the so-called Confederate States to the government of his Majesty the Emperor for a recognition of its independence and sovereignty.'), -12821.116418592323)]\n",
      "  warnings.warn(\n"
     ]
    },
    {
     "name": "stdout",
     "output_type": "stream",
     "text": [
      "Question: How did Lincoln’s proposals align with the broader goals of his administration? \n",
      " Answer: Based on the provided context, it is not possible to determine how Lincoln's proposals aligned with the broader goals of his administration. The text only discusses a conversation about the origins and purposes of the conflict in which the United States is involved, and does not mention any specific proposals by Lincoln or the administration.\n"
     ]
    }
   ],
   "source": [
    "query = 'How did Lincoln’s proposals align with the broader goals of his administration?'\n",
    "print('Question: {} \\n Answer: {}'.format(query,assist.query(query)))"
   ]
  },
  {
   "cell_type": "code",
   "execution_count": 13,
   "metadata": {},
   "outputs": [
    {
     "name": "stderr",
     "output_type": "stream",
     "text": [
      "/Users/ayush/miniconda3/envs/resumeLLM/lib/python3.11/site-packages/langchain_core/vectorstores/base.py:784: UserWarning: Relevance scores must be between 0 and 1, got [(Document(metadata={'source': 'ref_books/frus1861.pdf', 'start_index': 251103}, page_content='And here I stop for a moment to make two remarks upon this part of the conversation. The first of these is, that I have an impression that the agent to go to Hungary, alluded to by his lordship, was Mr. Mann, the same gentleman who is now figuring in the commission of the confederates at this place. If in this I am right, we can be at no loss for his lordship’s sources of information. The other remark is, that the Hungarian precedent was unquestionably one in which a very strong sympathy with the insurgent party actually existed in the United States. Are we therefore to infer a similar impulse to actuate the precipitate measure now taken here?'), -13318.219391106124), (Document(metadata={'source': 'ref_books/frus1861.pdf', 'start_index': 1127599}, page_content='But the court of Versailles set out from other principles, which she developed in “Observations on the Vindicatory Memoir of the Court of London,” saying, among other things: “It is sufficient to the justification of his Majesty that the colonies had established their independence not merely by a solemn\\n\\ndeclaration, but also in fact, and had maintained it against the efforts of the mother country.”'), -13810.172361301482), (Document(metadata={'source': 'ref_books/frus1861.pdf', 'start_index': 888438}, page_content='The United States are on the verge of civil war. It happens to them now, as it happened to ancient Rome, and has happened to many other republics, that they must make the trial whether liberty can be preserved while dominion is widely extended. What then shall we say or do in regard to Rome, or what ought Rome to say or do in regard to us?'), -14136.87917236451)]\n",
      "  warnings.warn(\n"
     ]
    },
    {
     "name": "stdout",
     "output_type": "stream",
     "text": [
      "Question: How does Lincoln’s use of language reflect the political and emotional climate of the time? \n",
      " Answer: Based on the provided context, it appears that Lincoln's use of language reflects a tone of caution, nuance, and historical awareness. He is aware of the complex web of relationships between different countries (e.g., Hungary, the United States, and France) and is hesitant to make sweeping conclusions or accusations.\n",
      "\n",
      "The first passage suggests that Lincoln is seeking to clarify information and context, rather than making inflammatory statements. His language is measured and deliberate, indicating a desire to understand the motivations behind certain actions (i.e., \"If in this I am right...\").\n",
      "\n",
      "In the second passage, Lincoln appeals to historical precedent, drawing parallels between the struggles of ancient Rome and those facing the United States at that moment. This approach suggests a deep understanding of the complexities of history and a willingness to learn from the past.\n",
      "\n",
      "Throughout these passages, Lincoln's language is characterized by:\n",
      "\n",
      "1. A focus on context and nuance: He seeks to understand the motivations behind different actions and avoids making blanket statements.\n",
      "2. Historical awareness: Lincoln draws parallels between ancient Rome and contemporary events in the United States, indicating an appreciation for the long-term implications of decisions.\n",
      "3. Caution: His language is measured, reflecting a desire to avoid reckless or impulsive action.\n",
      "\n",
      "Overall, Lincoln's use of language reflects a tone of thoughtful consideration, careful analysis, and historical perspective – all qualities that were likely essential in navigating the turbulent political climate of his time.\n"
     ]
    }
   ],
   "source": [
    "query = 'How does Lincoln’s use of language reflect the political and emotional climate of the time?'\n",
    "print('Question: {} \\n Answer: {}'.format(query,assist.query(query)))"
   ]
  },
  {
   "cell_type": "code",
   "execution_count": null,
   "metadata": {},
   "outputs": [],
   "source": []
  }
 ],
 "metadata": {
  "kernelspec": {
   "display_name": "resumeLLM",
   "language": "python",
   "name": "python3"
  },
  "language_info": {
   "codemirror_mode": {
    "name": "ipython",
    "version": 3
   },
   "file_extension": ".py",
   "mimetype": "text/x-python",
   "name": "python",
   "nbconvert_exporter": "python",
   "pygments_lexer": "ipython3",
   "version": "3.11.9"
  }
 },
 "nbformat": 4,
 "nbformat_minor": 2
}
